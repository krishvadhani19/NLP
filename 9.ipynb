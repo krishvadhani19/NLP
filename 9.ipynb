{
 "cells": [
  {
   "cell_type": "markdown",
   "metadata": {},
   "source": [
    "After BOW, Tfidf, \n",
    "now we will learn about Word Embedding - Word2Vec, Glove"
   ]
  },
  {
   "cell_type": "markdown",
   "metadata": {},
   "source": [
    "Word Representation - "
   ]
  },
  {
   "cell_type": "markdown",
   "metadata": {},
   "source": [
    "here, we have one hot representation where only the words that we desire will be 1 and rest will be 0 so we will have a sparse matrix"
   ]
  },
  {
   "cell_type": "markdown",
   "metadata": {},
   "source": [
    "Sparse Matrix is many '0s' and few '1s'"
   ]
  },
  {
   "cell_type": "markdown",
   "metadata": {},
   "source": [
    "So in Word Embedding there is a concept of Feature Representation"
   ]
  },
  {
   "cell_type": "markdown",
   "metadata": {},
   "source": [
    "In Feature Representation, \n",
    "There will be generalised row inputs and depending on that the words(vectors) will be having some values depending on the relation with it"
   ]
  },
  {
   "cell_type": "markdown",
   "metadata": {},
   "source": [
    "Here, we have low dimension and Dense Matrix"
   ]
  },
  {
   "cell_type": "markdown",
   "metadata": {},
   "source": [
    "https://www.youtube.com/watch?v=pO_6Jk0QtKw&list=PLZoTAELRMXVMdJ5sqbCK2LiM0HhQVWNzm&index=20&ab_channel=KrishNaik"
   ]
  },
  {
   "cell_type": "markdown",
   "metadata": {},
   "source": []
  }
 ],
 "metadata": {
  "language_info": {
   "name": "python"
  },
  "orig_nbformat": 4
 },
 "nbformat": 4,
 "nbformat_minor": 2
}
